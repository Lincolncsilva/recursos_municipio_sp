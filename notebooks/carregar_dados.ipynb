{
 "cells": [
  {
   "cell_type": "code",
   "execution_count": 43,
   "metadata": {},
   "outputs": [],
   "source": [
    "import pandas as pd\n",
    "import sqlalchemy\n",
    "from sqlalchemy.orm import declarative_base\n",
    "from sqlalchemy import Column, Integer, String\n",
    "import numpy as np\n",
    "import os\n",
    "import json\n",
    "from sqlalchemy.orm import sessionmaker"
   ]
  },
  {
   "cell_type": "code",
   "execution_count": 44,
   "metadata": {},
   "outputs": [],
   "source": [
    "#criando o engine\n",
    "\n",
    "engine = sqlalchemy.create_engine('sqlite:///recursos_municipios_sp.db', echo=True)"
   ]
  },
  {
   "cell_type": "code",
   "execution_count": 45,
   "metadata": {},
   "outputs": [],
   "source": [
    "Base = declarative_base()"
   ]
  },
  {
   "cell_type": "code",
   "execution_count": 4,
   "metadata": {},
   "outputs": [],
   "source": [
    "ano = 2020\n",
    "\n"
   ]
  },
  {
   "cell_type": "code",
   "execution_count": 46,
   "metadata": {},
   "outputs": [
    {
     "name": "stdout",
     "output_type": "stream",
     "text": [
      "2023-09-08 16:57:09,451 INFO sqlalchemy.engine.Engine BEGIN (implicit)\n",
      "2023-09-08 16:57:09,451 INFO sqlalchemy.engine.Engine COMMIT\n"
     ]
    }
   ],
   "source": [
    "Base.metadata.create_all(engine)"
   ]
  },
  {
   "cell_type": "code",
   "execution_count": 34,
   "metadata": {},
   "outputs": [
    {
     "data": {
      "text/plain": [
       "['2019', '2020', '2022', '2023']"
      ]
     },
     "execution_count": 34,
     "metadata": {},
     "output_type": "execute_result"
    }
   ],
   "source": [
    "caminho = '/home/lincoln/Documents/Projetos/recursos_municipio_sp/data/raw'\n",
    "    \n",
    "\n",
    "    #checar se os diretorios foram criados!\n",
    "\n",
    "check_dir = os.listdir(caminho)\n",
    "    \n",
    "    \n",
    "    #chegar se os arquivos existem!\n",
    "    \n",
    "check_file = os.listdir(f'{caminho}/2019')\n",
    "\n",
    "check_dir.remove('.gitkeep')\n",
    "check_dir.sort()\n",
    "check_dir"
   ]
  },
  {
   "cell_type": "code",
   "execution_count": 42,
   "metadata": {},
   "outputs": [],
   "source": [
    "def carregar_dados():\n",
    "\n",
    "    caminho = '/home/lincoln/Documents/Projetos/recursos_municipio_sp/data/raw'\n",
    "    \n",
    "\n",
    "    #checar se os diretorios foram criados!\n",
    "\n",
    "    check_dir = os.listdir(caminho)\n",
    "    \n",
    "    \n",
    "    #chegar se os arquivos existem!\n",
    "    \n",
    "    #check_file = os.listdir(f'{caminho}/2019')\n",
    "\n",
    "    check_dir.remove('.gitkeep')\n",
    "    check_dir.sort()\n",
    "    \n",
    "    \n",
    "    ano = check_dir[0]\n",
    "\n",
    "\n",
    "    def criar_table():\n",
    "            \n",
    "            engine = sqlalchemy.create_engine('sqlite:///recursos_municipios_sp.db', echo=True)\n",
    "            Base = declarative_base()\n",
    "\n",
    "# carregar os dados anuais em respectiva table usando Update e insert functions\n",
    "            for year in check_dir:                \n",
    "        \n",
    "                class Ano(Base):\n",
    "                       __tablename__= f'{year}'\n",
    "\n",
    "                       id = Column(Integer, primary_key= True)\n",
    "                       ano_mes = Column(Integer)\n",
    "                       codigo_pessoa = Column(String(20))\n",
    "                       nome_pessoa =Column(String(100))\n",
    "                       tipo_pessoa =Column(String(20))\n",
    "                       municipio_pessoa = Column(String(100))\n",
    "                       sigla_uf_pessoa =Column(String(2))\n",
    "                       codigo_ug = Column(String(10))\n",
    "                       nome_ug =Column(String(150))\n",
    "                       codigo_orgao = Column(String(10)) \n",
    "                       nome_orgao =Column(String)\n",
    "                       codigo_orgao_superior = Column(String(10))\n",
    "                       nome_orgao_superior = Column(String(150))\n",
    "                       valor =  Column(Integer)\n",
    "          \n",
    "                       def __repr__(self):   \n",
    "                               return \"<ano_mes ={},codigo_pessoa = {}, nome_pessoa ={}, tipo_pessoa ={}, municipio_pessoa ={}, sigla_uf_pessoa = {}, codigo_ug ={}, nome_ug = {}, codigo_orgao = {}, nome_orgao ={}, codigo_orgao_superior ={}, nome_orgao_superior ={}, valor ={}  > \".format(\n",
    "                               self.ano_mes,self.codigo_pessoa,self.nome_pessoa,self.tipo_pessoa,self.municipio_pessoa,self.sigla_uf_pessoa,self.codigo_ug,self.nome_ug,self.codigo_orgao,self.nome_orgao,self.codigo_orgao_superior,self.nome_orgao_superior,self.valor)\n",
    "\n",
    "            Base.metadata.create_all(engine)\n",
    "    return       \n",
    "\n",
    "\n",
    "          \n",
    "#criando session\n",
    "\n",
    "\n",
    "    def criar_rows():\n",
    "            Session = sessionmaker(bind=engine)\n",
    "            session= Session()\n",
    "\n",
    "\n",
    "#carregando dados\n",
    "            for ano in check_dir:\n",
    "                arquivos = os.listdir(f'/home/lincoln/Documents/Projetos/recursos_municipio_sp/data/raw/{ano}')\n",
    "                for file in arquivos:\n",
    "                    with open(f'{caminho}/{ano}/{file}','r') as dados:\n",
    "                            dados = json.load(dados)                 \n",
    "\n",
    "            for i in range(len(dados)):\n",
    "                      for j in range(len(dados[i])):\n",
    "                              linha= Ano(ano_mes = int(dados[i][j]['anoMes']),\n",
    "                              codigo_pessoa = str(dados[i][j]['codigoPessoa']),\n",
    "                              nome_pessoa = str(dados[i][j]['nomePessoa']),\n",
    "                              tipo_pessoa = str(dados[i][j]['tipoPessoa']),\n",
    "                              municipio_pessoa =str(dados[i][j]['municipioPessoa']),\n",
    "                              sigla_uf_pessoa = str(dados[i][j]['siglaUFPessoa']),\n",
    "                              codigo_ug = str(dados[i][j]['codigoUG']),\n",
    "                              nome_ug = str(dados[i][j]['nomeUG']),\n",
    "                              codigo_orgao = str(dados[i][j]['codigoOrgao']),\n",
    "                              nome_orgao = str(dados[i][j]['nomeOrgao']),\n",
    "                              codigo_orgao_superior = str(dados[i][j]['codigoOrgaoSuperior']),\n",
    "                              nome_orgao_superior = str(dados[i][j]['nomeOrgaoSuperior']),\n",
    "                              valor = int(dados[i][j]['valor']))\n",
    "                              session.merge(linha)\n",
    "                              session.commit()\n",
    "    \n",
    "    return\n",
    "\n",
    "\n",
    "    try:\n",
    "        if os.path.exists('/home/lincoln/Documents/Projetos/recursos_municipio_sp/notebooks/recursos_municipios_sp.db'):\n",
    "              pass\n",
    "    except:\n",
    "           criar_table()\n",
    "\n",
    "    try:\n",
    "          criar_rows()\n",
    "    except:\n",
    "          print('Error')\n",
    "\n",
    "\n",
    "    #criar loggs de inserção\n",
    "    return \n",
    "carregar_dados()\n"
   ]
  },
  {
   "cell_type": "code",
   "execution_count": 6,
   "metadata": {},
   "outputs": [
    {
     "data": {
      "text/plain": [
       "sessionmaker(class_='Session', bind=Engine(sqlite:///recursos_municipios_sp.db), autoflush=True, expire_on_commit=True)"
      ]
     },
     "execution_count": 6,
     "metadata": {},
     "output_type": "execute_result"
    }
   ],
   "source": [
    "\n",
    "Session = sessionmaker(bind=engine)\n",
    "Session"
   ]
  },
  {
   "cell_type": "code",
   "execution_count": 7,
   "metadata": {},
   "outputs": [],
   "source": [
    "session= Session()"
   ]
  },
  {
   "cell_type": "code",
   "execution_count": null,
   "metadata": {},
   "outputs": [],
   "source": [
    "\n",
    "caminho ='/home/lincoln/Documents/Projetos/recursos_municipio_sp/data/raw/2020'\n",
    "arquivos = os.listdir('/home/lincoln/Documents/Projetos/recursos_municipio_sp/data/raw/2020')\n",
    "\n",
    "for file in arquivos:\n",
    "    with open(f'{caminho}/{file}','r') as dados:\n",
    "           dados = json.load(dados)                 \n",
    "\n",
    "    for i in range(len(dados)):\n",
    "                  for j in range(len(dados[i])):\n",
    "                          linha= Ano(ano_mes = int(dados[i][j]['anoMes']),\n",
    "                          codigo_pessoa = str(dados[i][j]['codigoPessoa']),\n",
    "                          nome_pessoa = str(dados[i][j]['nomePessoa']),\n",
    "                          tipo_pessoa = str(dados[i][j]['tipoPessoa']),\n",
    "                          municipio_pessoa =str(dados[i][j]['municipioPessoa']),\n",
    "                          sigla_uf_pessoa = str(dados[i][j]['siglaUFPessoa']),\n",
    "                          codigo_ug = str(dados[i][j]['codigoUG']),\n",
    "                          nome_ug = str(dados[i][j]['nomeUG']),\n",
    "                          codigo_orgao = str(dados[i][j]['codigoOrgao']),\n",
    "                          nome_orgao = str(dados[i][j]['nomeOrgao']),\n",
    "                          codigo_orgao_superior = str(dados[i][j]['codigoOrgaoSuperior']),\n",
    "                          nome_orgao_superior = str(dados[i][j]['nomeOrgaoSuperior']),\n",
    "                          valor = int(dados[i][j]['valor']))\n",
    "                          session.merge(linha)\n",
    "                          session.commit()\n",
    "       \n",
    "      \n",
    "\n",
    "    \n",
    "\n",
    "          "
   ]
  },
  {
   "cell_type": "code",
   "execution_count": 39,
   "metadata": {},
   "outputs": [
    {
     "name": "stdout",
     "output_type": "stream",
     "text": [
      "existe!\n"
     ]
    }
   ],
   "source": [
    "if os.path.exists('/home/lincoln/Documents/Projetos/recursos_municipio_sp/notebooks/recursos_municipios_sp.db') == True:\n",
    "              print(\"existe!\")"
   ]
  },
  {
   "cell_type": "code",
   "execution_count": null,
   "metadata": {},
   "outputs": [],
   "source": [
    " for i in range(len(dados[0])+1):\n",
    "                  for j in range(len(dados[i])):\n",
    "                          linha= Ano(ano_mes = int(dados[i][j]['anoMes']),\n",
    "                          codigo_pessoa = str(dados[i][j]['codigoPessoa']),\n",
    "                          nome_pessoa = str(dados[i][j]['nomePessoa']),\n",
    "                          tipo_pessoa = str(dados[i][j]['tipoPessoa']),\n",
    "                          municipio_pessoa =str(dados[i][j]['municipioPessoa']),\n",
    "                          sigla_uf_pessoa = str(dados[i][j]['siglaUFPessoa']),\n",
    "                          codigo_ug = str(dados[i][j]['codigoUG']),\n",
    "                          nome_ug = str(dados[i][j]['nomeUG']),\n",
    "                          codigo_orgao = str(dados[i][j]['codigoOrgao']),\n",
    "                          nome_orgao = str(dados[i][j]['nomeOrgao']),\n",
    "                          codigo_orgao_superior = str(dados[i][j]['codigoOrgaoSuperior']),\n",
    "                          nome_orgao_superior = str(dados[i][j]['nomeOrgaoSuperior']),\n",
    "                          valor = int(dados[i][j]['valor']))\n",
    "                          session.merge(linha)\n",
    "                          session.commit()"
   ]
  }
 ],
 "metadata": {
  "kernelspec": {
   "display_name": "Python 3",
   "language": "python",
   "name": "python3"
  },
  "language_info": {
   "codemirror_mode": {
    "name": "ipython",
    "version": 3
   },
   "file_extension": ".py",
   "mimetype": "text/x-python",
   "name": "python",
   "nbconvert_exporter": "python",
   "pygments_lexer": "ipython3",
   "version": "3.10.12"
  },
  "orig_nbformat": 4
 },
 "nbformat": 4,
 "nbformat_minor": 2
}
