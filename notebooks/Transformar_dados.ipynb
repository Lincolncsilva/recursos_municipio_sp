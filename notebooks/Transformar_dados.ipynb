{
 "cells": [
  {
   "cell_type": "code",
   "execution_count": 1,
   "metadata": {},
   "outputs": [],
   "source": [
    "import pandas as pd\n",
    "import numpy as np\n",
    "import os\n",
    "import json\n"
   ]
  },
  {
   "cell_type": "code",
   "execution_count": 111,
   "metadata": {},
   "outputs": [
    {
     "name": "stdout",
     "output_type": "stream",
     "text": [
      "<class '_io.TextIOWrapper'>\n"
     ]
    }
   ],
   "source": [
    "\n",
    "\n",
    "path = '/home/lincoln/Documents/Projetos/recursos_municipio_sp/data/raw'\n",
    "destino= '/home/lincoln/Documents/Projetos/recursos_municipio_sp/data/processed'\n",
    "list_dir = []\n",
    "\n",
    "for folder in set(os.listdir(path)):\n",
    "    if folder == '.gitkeep':\n",
    "        pass\n",
    "    else:\n",
    "        list_dir.append(f'{path}/{folder}')\n",
    "\n",
    "list_dir.sort()\n",
    "\n",
    "#checando se a pasta existe no destino\n",
    "\n",
    "os.makedirs(f'{destino}/{list_dir[0][-4:]}', exist_ok=True)\n",
    "\n",
    "test = os.listdir(list_dir[0])\n",
    "\n",
    "with open(f\"{destino}/{list_dir[0][-4:]}/concatenado.json\", \"w\") as file:\n",
    "    \n",
    "    for arquivo in test:\n",
    "        with open(f'{list_dir[0]}/{arquivo}' , \"r\") as t:\n",
    "              file.writelines(t)\n",
    "            \n",
    "print(type(file))\n",
    "   "
   ]
  },
  {
   "cell_type": "code",
   "execution_count": 119,
   "metadata": {},
   "outputs": [],
   "source": [
    "def merge_json_files(file_paths):\n",
    "    merged_contents = []\n",
    "\n",
    "    for file_path in list_dir[0]:\n",
    "        with open(f'{list_dir[0]}/{arquivo}', 'r', encoding='utf-8') as file_in:\n",
    "            merged_contents.extend(json.load(file_in))\n",
    "\n",
    "    with open(f'{destino}/{list_dir[0][-4:]}/concatenado.json', 'w', encoding='utf-8') as file_out:\n",
    "        json.dump(merged_contents, file_out)\n",
    "\n",
    "\n",
    "merge_json_files(test)\n",
    "\n"
   ]
  }
 ],
 "metadata": {
  "kernelspec": {
   "display_name": "Python 3",
   "language": "python",
   "name": "python3"
  },
  "language_info": {
   "codemirror_mode": {
    "name": "ipython",
    "version": 3
   },
   "file_extension": ".py",
   "mimetype": "text/x-python",
   "name": "python",
   "nbconvert_exporter": "python",
   "pygments_lexer": "ipython3",
   "version": "3.10.12"
  },
  "orig_nbformat": 4
 },
 "nbformat": 4,
 "nbformat_minor": 2
}
