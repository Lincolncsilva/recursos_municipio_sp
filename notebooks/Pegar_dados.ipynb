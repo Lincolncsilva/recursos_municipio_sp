{
 "cells": [
  {
   "cell_type": "code",
   "execution_count": 4,
   "id": "f71905e6",
   "metadata": {},
   "outputs": [],
   "source": [
    "import requests\n",
    "import pandas as pd\n",
    "import json\n",
    "import asyncio\n",
    "from credencias import gov_br\n",
    "import time\n",
    "import os\n",
    "import calendar\n",
    "from datetime import datetime"
   ]
  },
  {
   "cell_type": "code",
   "execution_count": 5,
   "id": "132a5de6",
   "metadata": {},
   "outputs": [],
   "source": [
    "minha_chave = gov_br.get('minha_chave')\n",
    "chave = {'chave-api-dados':minha_chave}"
   ]
  },
  {
   "cell_type": "code",
   "execution_count": 9,
   "id": "39a17c68",
   "metadata": {},
   "outputs": [
    {
     "name": "stdout",
     "output_type": "stream",
     "text": [
      "começou as 22:01:44\n",
      "acabou as 22:02:14\n"
     ]
    }
   ],
   "source": [
    "data_list = []\n",
    "\n",
    "async def pegar_dados(ano_ini,ano_fim,mes_ini,mes_fim,pagina,uf,delay):\n",
    "   \n",
    "    \n",
    "    print(f\"começou as {time.strftime('%X')}\")\n",
    "    \n",
    "\n",
    "    for ano in range(ano_ini, ano_fim + 1):\n",
    "\n",
    "        #checando se o diretorio existe!\n",
    "        \n",
    "        os.makedirs(f'/home/lincoln/Documents/Projetos/recursos_municipio_sp/data/raw/{ano}', exist_ok=True)\n",
    "\n",
    "        for mes in range(mes_ini,mes_fim + 1,1):\n",
    "            \n",
    "            #checando file\n",
    "            path= os.path.exists(f'/home/lincoln/Documents/Projetos/recursos_municipio_sp/data/raw/{ano}/{calendar.month_abbr[int(mes)]}_{ano}.json')\n",
    "\n",
    "            if path == False:\n",
    "                  mes = mes\n",
    "            \n",
    "            elif mes < 10:\n",
    "                mes = '0'+ str(mes)            \n",
    "            else:\n",
    "                mes = mes\n",
    "            \n",
    "\n",
    "            for page in range(1,pagina + 1):\n",
    "                  url = f\"https://api.portaldatransparencia.gov.br/api-de-dados/despesas/recursos-recebidos?mesAnoFim={mes}%2F{ano}&mesAnoInicio={mes}%2F{ano}&pagina={page}&uf={uf}\"\n",
    "                  r = requests.get(url, verify= True, headers = chave).json()\n",
    "                  data_list.append(r)\n",
    "            \n",
    "            if data_list[0]==[]:\n",
    "                  break\n",
    "            \n",
    "            path_file = f'/home/lincoln/Documents/Projetos/recursos_municipio_sp/data/raw/{ano}'\n",
    "            \n",
    "            try:\n",
    "                 list_json = json.dumps(data_list, indent=4, ensure_ascii=False)\n",
    "                 with open(f'{path_file}/{calendar.month_abbr[int(mes)]}_{ano}.json', 'w') as outfile:\n",
    "                        outfile.write(list_json)        \n",
    "            except:\n",
    "                print(f'Arquivo de {calendar.month[int(mes)]} do {ano} já foi criado!')\n",
    "                pass\n",
    "\n",
    "\n",
    "            data_list.clear()    \n",
    "\n",
    "    await asyncio.sleep(delay= delay)\n",
    "\n",
    "\n",
    "    print(f\"acabou as {time.strftime('%X')}\")\n",
    "\n",
    "\n",
    "await pegar_dados(2019,2020,1,12,2,'SP',2)   "
   ]
  }
 ],
 "metadata": {
  "kernelspec": {
   "display_name": "Python 3 (ipykernel)",
   "language": "python",
   "name": "python3"
  },
  "language_info": {
   "codemirror_mode": {
    "name": "ipython",
    "version": 3
   },
   "file_extension": ".py",
   "mimetype": "text/x-python",
   "name": "python",
   "nbconvert_exporter": "python",
   "pygments_lexer": "ipython3",
   "version": "3.11.0rc1"
  }
 },
 "nbformat": 4,
 "nbformat_minor": 5
}
